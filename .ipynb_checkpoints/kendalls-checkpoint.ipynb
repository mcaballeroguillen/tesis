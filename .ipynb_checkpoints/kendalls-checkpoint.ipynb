{
 "cells": [
  {
   "cell_type": "code",
   "execution_count": 1,
   "metadata": {
    "collapsed": true
   },
   "outputs": [],
   "source": [
    "import scipy.stats as stats\n",
    "import numpy as np"
   ]
  },
  {
   "cell_type": "code",
   "execution_count": 20,
   "metadata": {},
   "outputs": [],
   "source": [
    "archivo = open(\"/home/marco/Escritorio/proyect/Peliculas/Pruebas_k_normal/r_64/union0\", 'r')\n",
    "archivo2 = open(\"/home/marco/Escritorio/proyect/Peliculas/Pruebas_k_normal/r_64/union1\", 'r')\n",
    "rank1= []\n",
    "rank2= []\n",
    "for linea in archivo.readlines():\n",
    "    linea = linea.replace('(',\"\")\n",
    "    linea = linea.replace(')',\"\")\n",
    "    val = linea.split(',')\n",
    "    rank1.append(int(val[1]))\n",
    "    rank2.append(int(val[2]))\n",
    "archivo.close() \n",
    "for linea in archivo2.readlines():\n",
    "    linea = linea.replace('(',\"\")\n",
    "    linea = linea.replace(')',\"\")\n",
    "    val = linea.split(',')\n",
    "    rank1.append(int(val[1]))\n",
    "    rank2.append(int(val[2]))\n",
    "archivo2.close()\n",
    "rank1 = np.asarray(rank1)\n",
    "rank2 = np.asanyarray(rank2)"
   ]
  },
  {
   "cell_type": "code",
   "execution_count": 21,
   "metadata": {},
   "outputs": [
    {
     "name": "stdout",
     "output_type": "stream",
     "text": [
      "(20815056,) (20815056,)\n"
     ]
    }
   ],
   "source": [
    "print(rank1.shape,rank2.shape)"
   ]
  },
  {
   "cell_type": "code",
   "execution_count": 22,
   "metadata": {
    "collapsed": true
   },
   "outputs": [],
   "source": [
    "tau, p_value = stats.kendalltau(rank1, rank2)"
   ]
  },
  {
   "cell_type": "code",
   "execution_count": 23,
   "metadata": {},
   "outputs": [
    {
     "data": {
      "text/plain": [
       "0.3842189580082265"
      ]
     },
     "execution_count": 23,
     "metadata": {},
     "output_type": "execute_result"
    }
   ],
   "source": [
    "tau"
   ]
  },
  {
   "cell_type": "code",
   "execution_count": 24,
   "metadata": {},
   "outputs": [
    {
     "data": {
      "text/plain": [
       "0.0"
      ]
     },
     "execution_count": 24,
     "metadata": {},
     "output_type": "execute_result"
    }
   ],
   "source": [
    "p_value"
   ]
  },
  {
   "cell_type": "code",
   "execution_count": null,
   "metadata": {
    "collapsed": true
   },
   "outputs": [],
   "source": []
  }
 ],
 "metadata": {
  "kernelspec": {
   "display_name": "Python 3",
   "language": "python",
   "name": "python3"
  },
  "language_info": {
   "codemirror_mode": {
    "name": "ipython",
    "version": 3
   },
   "file_extension": ".py",
   "mimetype": "text/x-python",
   "name": "python",
   "nbconvert_exporter": "python",
   "pygments_lexer": "ipython3",
   "version": "3.6.1"
  }
 },
 "nbformat": 4,
 "nbformat_minor": 2
}
