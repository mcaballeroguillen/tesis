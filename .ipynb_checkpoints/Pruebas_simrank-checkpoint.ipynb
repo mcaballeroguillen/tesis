{
 "cells": [
  {
   "cell_type": "code",
   "execution_count": 37,
   "metadata": {},
   "outputs": [],
   "source": [
    "import networkx\n",
    "import networkx_addon"
   ]
  },
  {
   "cell_type": "code",
   "execution_count": 39,
   "metadata": {},
   "outputs": [],
   "source": [
    "G = networkx.Graph()\n",
    "G.add_edges_from([('a','b'), ('b','c'), ('a','c'), ('c','d')])\n",
    "s = networkx_addon.similarity.simrank(G)"
   ]
  },
  {
   "cell_type": "code",
   "execution_count": 41,
   "metadata": {},
   "outputs": [
    {
     "name": "stdout",
     "output_type": "stream",
     "text": [
      "0.653792211016936\n"
     ]
    }
   ],
   "source": [
    "print (s['a']['b'])"
   ]
  },
  {
   "cell_type": "code",
   "execution_count": 43,
   "metadata": {},
   "outputs": [
    {
     "name": "stdout",
     "output_type": "stream",
     "text": [
      "0.653792211016936\n"
     ]
    }
   ],
   "source": [
    "print (s['b']['a'])"
   ]
  },
  {
   "cell_type": "code",
   "execution_count": 52,
   "metadata": {},
   "outputs": [],
   "source": [
    "archivo = open(\"/home/marco/Escritorio/proyect/Paises/result.txt\", 'r')\n",
    "aristas=[]\n",
    "for linea in archivo.readlines():\n",
    "    val = linea.split('\\t')\n",
    "    link_subject = val[0]\n",
    "    link_subject = link_subject.replace('<',\"\")\n",
    "    link_subject = link_subject.replace('>',\"\")\n",
    "    subject = link_subject.split('/')[4]\n",
    "    tupleee=[]\n",
    "    tupleee.append(subject)\n",
    "    tupleee.append((val[2]))\n",
    "    aristas.append(tupleee)\n",
    "archivo.close() "
   ]
  },
  {
   "cell_type": "code",
   "execution_count": 53,
   "metadata": {},
   "outputs": [
    {
     "name": "stdout",
     "output_type": "stream",
     "text": [
      "167868\n",
      "['Q45', '\"PT\"@eo\\n']\n"
     ]
    }
   ],
   "source": [
    "print(len(aristas))\n",
    "print(aristas[1000])"
   ]
  },
  {
   "cell_type": "code",
   "execution_count": null,
   "metadata": {
    "collapsed": true
   },
   "outputs": [],
   "source": []
  }
 ],
 "metadata": {
  "kernelspec": {
   "display_name": "Python 3",
   "language": "python",
   "name": "python3"
  },
  "language_info": {
   "codemirror_mode": {
    "name": "ipython",
    "version": 3
   },
   "file_extension": ".py",
   "mimetype": "text/x-python",
   "name": "python",
   "nbconvert_exporter": "python",
   "pygments_lexer": "ipython3",
   "version": "3.6.1"
  }
 },
 "nbformat": 4,
 "nbformat_minor": 2
}
