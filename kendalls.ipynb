{
 "cells": [
  {
   "cell_type": "code",
   "execution_count": 1,
   "metadata": {
    "collapsed": true
   },
   "outputs": [],
   "source": [
    "import scipy.stats as stats\n",
    "import numpy as np"
   ]
  },
  {
   "cell_type": "code",
   "execution_count": 55,
   "metadata": {
    "collapsed": true
   },
   "outputs": [],
   "source": [
    "archivo = open(\"/home/marco/Escritorio/proyect/Universidades/Pruebas_k_normal/r_256/part-00000\", 'r')\n",
    "archivo2 = open(\"/home/marco/Escritorio/proyect/Universidades/Pruebas_k_normal/r_256/part-00001\", 'r')\n",
    "rank1= []\n",
    "rank2= []\n",
    "for linea in archivo.readlines():\n",
    "    linea = linea.replace('(',\"\")\n",
    "    linea = linea.replace(')',\"\")\n",
    "    val = linea.split(',')\n",
    "    rank1.append(int(val[1]))\n",
    "    rank2.append(int(val[2]))\n",
    "archivo.close() \n",
    "for linea in archivo2.readlines():\n",
    "    linea = linea.replace('(',\"\")\n",
    "    linea = linea.replace(')',\"\")\n",
    "    val = linea.split(',')\n",
    "    rank1.append(int(val[1]))\n",
    "    rank2.append(int(val[2]))\n",
    "archivo2.close()\n",
    "rank1 = np.asarray(rank1)\n",
    "rank2 = np.asanyarray(rank2)"
   ]
  },
  {
   "cell_type": "code",
   "execution_count": 56,
   "metadata": {},
   "outputs": [
    {
     "name": "stdout",
     "output_type": "stream",
     "text": [
      "(126548,) (126548,)\n"
     ]
    }
   ],
   "source": [
    "print(rank1.shape,rank2.shape)"
   ]
  },
  {
   "cell_type": "code",
   "execution_count": 57,
   "metadata": {
    "collapsed": true
   },
   "outputs": [],
   "source": [
    "tau, p_value = stats.kendalltau(rank1, rank2)"
   ]
  },
  {
   "cell_type": "code",
   "execution_count": 58,
   "metadata": {},
   "outputs": [
    {
     "data": {
      "text/plain": [
       "0.9999999999999999"
      ]
     },
     "execution_count": 58,
     "metadata": {},
     "output_type": "execute_result"
    }
   ],
   "source": [
    "tau"
   ]
  },
  {
   "cell_type": "code",
   "execution_count": 38,
   "metadata": {},
   "outputs": [
    {
     "data": {
      "text/plain": [
       "9.709906089906092e-94"
      ]
     },
     "execution_count": 38,
     "metadata": {},
     "output_type": "execute_result"
    }
   ],
   "source": [
    "p_value"
   ]
  },
  {
   "cell_type": "code",
   "execution_count": null,
   "metadata": {
    "collapsed": true
   },
   "outputs": [],
   "source": []
  }
 ],
 "metadata": {
  "kernelspec": {
   "display_name": "Python 3",
   "language": "python",
   "name": "python3"
  },
  "language_info": {
   "codemirror_mode": {
    "name": "ipython",
    "version": 3
   },
   "file_extension": ".py",
   "mimetype": "text/x-python",
   "name": "python",
   "nbconvert_exporter": "python",
   "pygments_lexer": "ipython3",
   "version": "3.6.1"
  }
 },
 "nbformat": 4,
 "nbformat_minor": 2
}
